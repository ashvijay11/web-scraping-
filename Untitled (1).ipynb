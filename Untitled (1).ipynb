{
 "cells": [
  {
   "cell_type": "code",
   "execution_count": 1,
   "metadata": {},
   "outputs": [],
   "source": [
    "import requests"
   ]
  },
  {
   "cell_type": "code",
   "execution_count": 2,
   "metadata": {},
   "outputs": [],
   "source": [
    "r = requests.get('https://in.reuters.com/article/india-water-cardamom/prices-of-cardamom-queen-of-spices-soar-as-wild-weather-wipes-indian-production-idINKCN1UC084')"
   ]
  },
  {
   "cell_type": "code",
   "execution_count": 3,
   "metadata": {},
   "outputs": [
    {
     "name": "stdout",
     "output_type": "stream",
     "text": [
      "<!--[if !IE]> This has been served from cache <![endif]-->\n",
      "<!--[if !IE]> Request served from apache server: prodie--i-0a109f11472e2bbbe <![endif]-->\n",
      "<!--[if !IE]> Cached on Wed, 17 Jul 2019 06:14:55 GMT and will expire on Wed, 17 Jul 2019 06:29:55 GMT <![endif]-->\n",
      "<!--[if !IE]> token: afa75b00-e040-458d-bf84-b59d92cf996b <![endif]-->\n",
      "<!--[if !IE]> App Server /prodie--i-0a109f11472e2bbbe/ <![endif]-->\n",
      "\n",
      "<!doctype html><html lang=\"en\" data-edition=\"IN\">\n",
      "    <head>\n",
      "\n",
      "    <title>\n",
      "                Price\n"
     ]
    }
   ],
   "source": [
    "print(r.text[0:500])"
   ]
  },
  {
   "cell_type": "code",
   "execution_count": 4,
   "metadata": {},
   "outputs": [],
   "source": [
    "from bs4 import BeautifulSoup"
   ]
  },
  {
   "cell_type": "code",
   "execution_count": 5,
   "metadata": {},
   "outputs": [],
   "source": [
    "soup = BeautifulSoup(r.text,'html.parser')"
   ]
  },
  {
   "cell_type": "code",
   "execution_count": 6,
   "metadata": {},
   "outputs": [],
   "source": [
    "result = soup.find_all('p')"
   ]
  },
  {
   "cell_type": "code",
   "execution_count": 26,
   "metadata": {},
   "outputs": [],
   "source": [
    "check = soup.find_all('a')"
   ]
  },
  {
   "cell_type": "code",
   "execution_count": 11,
   "metadata": {},
   "outputs": [
    {
     "data": {
      "text/plain": [
       "[<p class=\"BylineBar_reading-time\" style=\"color:undefined\">6 Min Read</p>,\n",
       " <p>NEW DELHI (Reuters) - Every year, tens of millions of Hindus flock to the Venkateswara Temple in Andhra Pradesh to pay tribute to site’s patron deity and pick up some of its famous sweets, the legendary “Tirupati laddu”. </p>,\n",
       " <p>The traditional delicacy is baked with sugar, flour, ghee, nuts and raisins and studded with cardamom, which has surged in price this year as India’s erratic weather ravages production of the pod, known as “the Queen of Spices”. </p>,\n",
       " <p>That spike has created new cost and supply pressures for buyers of the spice like the temple, which offers a limited number of complementary laddus to visitors and charges for extras. </p>,\n",
       " <p>“We are already incurring a loss making laddus, and this makes it worse,” a senior temple official told Reuters. </p>]"
      ]
     },
     "execution_count": 11,
     "metadata": {},
     "output_type": "execute_result"
    }
   ],
   "source": [
    "result[0:5]"
   ]
  },
  {
   "cell_type": "code",
   "execution_count": 15,
   "metadata": {},
   "outputs": [
    {
     "data": {
      "text/plain": [
       "['NEW DELHI (Reuters) - Every year, tens of millions of Hindus flock to the Venkateswara Temple in Andhra Pradesh to pay tribute to site’s patron deity and pick up some of its famous sweets, the legendary “Tirupati laddu”. ']"
      ]
     },
     "execution_count": 15,
     "metadata": {},
     "output_type": "execute_result"
    }
   ],
   "source": [
    "result[1].contents"
   ]
  },
  {
   "cell_type": "code",
   "execution_count": 20,
   "metadata": {},
   "outputs": [],
   "source": [
    "file = open('E:\\data.txt','w')"
   ]
  },
  {
   "cell_type": "code",
   "execution_count": 27,
   "metadata": {},
   "outputs": [],
   "source": [
    "new_result=[]\n",
    "\n",
    "for i in range(len(result)):\n",
    "    if(result[i].contents not in check):\n",
    "        new_result.append(result[i].contents)"
   ]
  },
  {
   "cell_type": "code",
   "execution_count": 28,
   "metadata": {},
   "outputs": [
    {
     "data": {
      "text/plain": [
       "[['6 Min Read'],\n",
       " ['NEW DELHI (Reuters) - Every year, tens of millions of Hindus flock to the Venkateswara Temple in Andhra Pradesh to pay tribute to site’s patron deity and pick up some of its famous sweets, the legendary “Tirupati laddu”. '],\n",
       " ['The traditional delicacy is baked with sugar, flour, ghee, nuts and raisins and studded with cardamom, which has surged in price this year as India’s erratic weather ravages production of the pod, known as “the Queen of Spices”. '],\n",
       " ['That spike has created new cost and supply pressures for buyers of the spice like the temple, which offers a limited number of complementary laddus to visitors and charges for extras. '],\n",
       " ['“We are already incurring a loss making laddus, and this makes it worse,” a senior temple official told Reuters. '],\n",
       " ['The temple typically buys 120 tonnes a year of high quality small cardamom pods, the most sought after kind, to meet demand. A year ago, it paid 1,600 rupees ($23.31) per kg for the spice, the official said. This month, it paid 4,400 rupees per kg.  '],\n",
       " ['Graphic: Cardamom prices in India ',\n",
       "  <a href=\"https://tmsnrt.rs/2YCWO0p\">https://tmsnrt.rs/2YCWO0p</a>,\n",
       "  ' '],\n",
       " ['The production problems stem from erratic weather in the district of Idukki, which accounts for at least a sixth of the global production and about three-quarters of India’s small cardamom output. '],\n",
       " ['Last year, massive rains killed over 50 people and destroyed the district’s farmlands. This year, a weak monsoon season has wiped small cardamom production, threatening the livelihoods of thousands of producers. '],\n",
       " ['That has hit both supply and quality, but more crucially, sent the spot prices of small cardamom, already among the world’s priciest spices, to record highs on Mumbai’s Multi Commodity Exchange this month. '],\n",
       " ['That spike is good news for traders but depleted stocks mean farmers are unable to capitalise on the rally, while the surge in costs has also hurt downstream demand. '],\n",
       " ['Temples and state governments are among India’s largest buyers of cardamom, accounting for up to 35% of the market, said Jojo George, Managing Director of KCPMC. '],\n",
       " ['“Somebody who was buying three tonnes or so earlier is now buying only one tonne,” George said.\\xa0 '],\n",
       " ['Cardamom’s complex combination of flavours, including elements of mint, citrus and herbs, make it a popular ingredient in a wide range of dishes, both sweet and savoury. '],\n",
       " ['Koushik S., popularly known as the “Mad Chef”, said the spice is essential to Indian cooking and supply issues affect his work. '],\n",
       " ['“Next year, availability will be a problem and we might have to import from Guatemala, but then the quality is inferior,” said Koushik, who is a well-known Indian TV chef and is also a consultant to restaurant chains. '],\n",
       " ['Guatemala is the largest cardamom grower but supply to India from the Central American country is mixed with lower quality cardamom, according to research by the Netherlands Enterprise Agency. '],\n",
       " ['Over the past three months, N Seetharam Prasad, the chef at the four-star GRT hotel in Chennai, has complained five times about the low quality of his small cardamom supplies. '],\n",
       " ['He uses the spice to make everything from biryani, a fragrant rice dish that enjoys a cult status in the country, to tea and sweets. '],\n",
       " ['“I will never compromise on the quality of ingredients and will look to buy elsewhere if I don’t get good cardamom,” Prasad told Reuters.  '],\n",
       " ['Graphic: Indian small cardamom losing flavour ',\n",
       "  <a href=\"https://tmsnrt.rs/2G5aQRb\">https://tmsnrt.rs/2G5aQRb</a>,\n",
       "  ' '],\n",
       " ['Idukki, a small land-locked mountainous region, has historically been ideal for cardamom, which demands heavy rains to thrive. '],\n",
       " ['\\xa0P.C. Matthew, a farmer who lives in India’s cardamom capital of Vandanmedu in Idukki, expects production to fall 50% from a normal year due to lower rainfall, and for the harvest to be delayed to October from early August. '],\n",
       " ['While overall rainfall at local and national levels has not varied significantly over time, analysis shows the incidence of short spells of intense rain and lengthy periods of little or no rain has increased.  '],\n",
       " ['Graphic: India extreme weather events\\xa0',\n",
       "  <a href=\"https://tmsnrt.rs/2G1p4Cy\">https://tmsnrt.rs/2G1p4Cy</a>,\n",
       "  ' '],\n",
       " ['India, in its annual economic survey last year, attributed this to climate change, and said revenue in areas entirely dependent on rains could fall by close to a sixth. '],\n",
       " ['The increasingly erratic weather patterns lift risks for the $400 billion farm economy and its hundreds of millions of farmers, only a small fraction of whom have crop insurance. '],\n",
       " ['Since the start of the century, Idukki’s cardamom regions have had seven lengthy dry spells, defined as periods of 100 days or more of no rain, said Muthusamy Murugan, the officer in charge of the state-run Cardamom Research Station in the district. '],\n",
       " ['That compares with 15 such spells for the entire 20th century. He expects the region’s cardamom production to fall 40%. '],\n",
       " ['“Prices will continue to rise in the long-term and we have reached this point because of climate change,” said Joychan Kannamunda, secretary of the Cardamom Growers Association. '],\n",
       " ['($1 = 68.6300 Indian rupees) '],\n",
       " ['Reporting by Sudarshan Varadhan; Editing by Martin Howell and Sam Holmes'],\n",
       " [<span>All quotes delayed a minimum of 15 minutes. See </span>,\n",
       "  <a href=\"//in.reuters.com/info/disclaimer \" target=\"_blank\">here for a complete list</a>,\n",
       "  <span> of exchanges and delays.</span>],\n",
       " [<a href=\"//www.thomsonreuters.com/en/policies/copyright.html\" target=\"_blank\"><span>© <!-- -->2019<!-- --> </span><span>Reuters. All Rights Reserved.</span></a>]]"
      ]
     },
     "execution_count": 28,
     "metadata": {},
     "output_type": "execute_result"
    }
   ],
   "source": [
    "new_result"
   ]
  },
  {
   "cell_type": "code",
   "execution_count": 29,
   "metadata": {},
   "outputs": [],
   "source": [
    "import string"
   ]
  },
  {
   "cell_type": "code",
   "execution_count": 31,
   "metadata": {},
   "outputs": [],
   "source": [
    "temp = ''.join([char for char in str(new_result) if char not in string.punctuation])"
   ]
  },
  {
   "cell_type": "code",
   "execution_count": 32,
   "metadata": {},
   "outputs": [
    {
     "data": {
      "text/plain": [
       "'6 Min Read NEW DELHI Reuters  Every year tens of millions of Hindus flock to the Venkateswara Temple in Andhra Pradesh to pay tribute to site’s patron deity and pick up some of its famous sweets the legendary “Tirupati laddu”  The traditional delicacy is baked with sugar flour ghee nuts and raisins and studded with cardamom which has surged in price this year as India’s erratic weather ravages production of the pod known as “the Queen of Spices”  That spike has created new cost and supply pressures for buyers of the spice like the temple which offers a limited number of complementary laddus to visitors and charges for extras  “We are already incurring a loss making laddus and this makes it worse” a senior temple official told Reuters  The temple typically buys 120 tonnes a year of high quality small cardamom pods the most sought after kind to meet demand A year ago it paid 1600 rupees 2331 per kg for the spice the official said This month it paid 4400 rupees per kg   Graphic Cardamom prices in India  a hrefhttpstmsnrtrs2YCWO0phttpstmsnrtrs2YCWO0pa   The production problems stem from erratic weather in the district of Idukki which accounts for at least a sixth of the global production and about threequarters of India’s small cardamom output  Last year massive rains killed over 50 people and destroyed the district’s farmlands This year a weak monsoon season has wiped small cardamom production threatening the livelihoods of thousands of producers  That has hit both supply and quality but more crucially sent the spot prices of small cardamom already among the world’s priciest spices to record highs on Mumbai’s Multi Commodity Exchange this month  That spike is good news for traders but depleted stocks mean farmers are unable to capitalise on the rally while the surge in costs has also hurt downstream demand  Temples and state governments are among India’s largest buyers of cardamom accounting for up to 35 of the market said Jojo George Managing Director of KCPMC  “Somebody who was buying three tonnes or so earlier is now buying only one tonne” George saidxa0  Cardamom’s complex combination of flavours including elements of mint citrus and herbs make it a popular ingredient in a wide range of dishes both sweet and savoury  Koushik S popularly known as the “Mad Chef” said the spice is essential to Indian cooking and supply issues affect his work  “Next year availability will be a problem and we might have to import from Guatemala but then the quality is inferior” said Koushik who is a wellknown Indian TV chef and is also a consultant to restaurant chains  Guatemala is the largest cardamom grower but supply to India from the Central American country is mixed with lower quality cardamom according to research by the Netherlands Enterprise Agency  Over the past three months N Seetharam Prasad the chef at the fourstar GRT hotel in Chennai has complained five times about the low quality of his small cardamom supplies  He uses the spice to make everything from biryani a fragrant rice dish that enjoys a cult status in the country to tea and sweets  “I will never compromise on the quality of ingredients and will look to buy elsewhere if I don’t get good cardamom” Prasad told Reuters   Graphic Indian small cardamom losing flavour  a hrefhttpstmsnrtrs2G5aQRbhttpstmsnrtrs2G5aQRba   Idukki a small landlocked mountainous region has historically been ideal for cardamom which demands heavy rains to thrive  xa0PC Matthew a farmer who lives in India’s cardamom capital of Vandanmedu in Idukki expects production to fall 50 from a normal year due to lower rainfall and for the harvest to be delayed to October from early August  While overall rainfall at local and national levels has not varied significantly over time analysis shows the incidence of short spells of intense rain and lengthy periods of little or no rain has increased   Graphic India extreme weather eventsxa0 a hrefhttpstmsnrtrs2G1p4Cyhttpstmsnrtrs2G1p4Cya   India in its annual economic survey last year attributed this to climate change and said revenue in areas entirely dependent on rains could fall by close to a sixth  The increasingly erratic weather patterns lift risks for the 400 billion farm economy and its hundreds of millions of farmers only a small fraction of whom have crop insurance  Since the start of the century Idukki’s cardamom regions have had seven lengthy dry spells defined as periods of 100 days or more of no rain said Muthusamy Murugan the officer in charge of the staterun Cardamom Research Station in the district  That compares with 15 such spells for the entire 20th century He expects the region’s cardamom production to fall 40  “Prices will continue to rise in the longterm and we have reached this point because of climate change” said Joychan Kannamunda secretary of the Cardamom Growers Association  1  686300 Indian rupees  Reporting by Sudarshan Varadhan Editing by Martin Howell and Sam Holmes spanAll quotes delayed a minimum of 15 minutes See span a hrefinreuterscominfodisclaimer  targetblankhere for a complete lista span of exchanges and delaysspan a hrefwwwthomsonreuterscomenpoliciescopyrighthtml targetblankspan©  2019  spanspanReuters All Rights Reservedspana'"
      ]
     },
     "execution_count": 32,
     "metadata": {},
     "output_type": "execute_result"
    }
   ],
   "source": [
    "temp"
   ]
  },
  {
   "cell_type": "code",
   "execution_count": 33,
   "metadata": {},
   "outputs": [],
   "source": [
    "for i in temp:\n",
    "    file.write(i)"
   ]
  },
  {
   "cell_type": "code",
   "execution_count": 34,
   "metadata": {},
   "outputs": [],
   "source": [
    "file.close()"
   ]
  },
  {
   "cell_type": "code",
   "execution_count": null,
   "metadata": {},
   "outputs": [],
   "source": []
  }
 ],
 "metadata": {
  "kernelspec": {
   "display_name": "Python 3",
   "language": "python",
   "name": "python3"
  },
  "language_info": {
   "codemirror_mode": {
    "name": "ipython",
    "version": 3
   },
   "file_extension": ".py",
   "mimetype": "text/x-python",
   "name": "python",
   "nbconvert_exporter": "python",
   "pygments_lexer": "ipython3",
   "version": "3.7.3"
  }
 },
 "nbformat": 4,
 "nbformat_minor": 2
}
